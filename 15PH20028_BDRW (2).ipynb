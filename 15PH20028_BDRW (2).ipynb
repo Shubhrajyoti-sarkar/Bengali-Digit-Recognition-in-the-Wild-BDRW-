{
  "nbformat": 4,
  "nbformat_minor": 0,
  "metadata": {
    "kernelspec": {
      "display_name": "Python 3",
      "language": "python",
      "name": "python3"
    },
    "language_info": {
      "codemirror_mode": {
        "name": "ipython",
        "version": 3
      },
      "file_extension": ".py",
      "mimetype": "text/x-python",
      "name": "python",
      "nbconvert_exporter": "python",
      "pygments_lexer": "ipython3",
      "version": "3.7.4"
    },
    "colab": {
      "name": "15PH20028_BDRW.ipynb",
      "provenance": [],
      "collapsed_sections": []
    }
  },
  "cells": [
    {
      "cell_type": "markdown",
      "metadata": {
        "id": "hh-SBTpu7m8k",
        "colab_type": "text"
      },
      "source": [
        "### AI61002 Project\n",
        "# Bengali Digit Recognition in the Wild\n",
        "#### Submitted By\n",
        "# SHUBHRAJYOTI SARKAR\n",
        "# 15PH20028"
      ]
    },
    {
      "cell_type": "code",
      "metadata": {
        "id": "n0PkQwx47m8m",
        "colab_type": "code",
        "colab": {}
      },
      "source": [
        "%matplotlib inline\n",
        "import torch\n",
        "import numpy as np\n",
        "import torch.nn as nn\n",
        "import torch.nn.functional as F\n",
        "import torch.optim as optim\n",
        "from torch.utils.data import Dataset, DataLoader\n",
        "import matplotlib.pyplot as plt\n",
        "import pandas as pd\n",
        "from skimage import io\n",
        "from torchvision import transforms\n",
        "import os, shutil, random, time, copy\n",
        "from PIL import Image\n",
        "import torchvision\n",
        "from torchvision import transforms, datasets\n"
      ],
      "execution_count": 0,
      "outputs": []
    },
    {
      "cell_type": "markdown",
      "metadata": {
        "id": "w7Zp_PUHWP7B",
        "colab_type": "text"
      },
      "source": [
        "# Used this Github handle for inversion transformation of images"
      ]
    },
    {
      "cell_type": "code",
      "metadata": {
        "id": "KmLkFsxu4HxN",
        "colab_type": "code",
        "outputId": "8aa0479b-0f1f-4b6d-b5af-a32ab99dd7ef",
        "colab": {
          "base_uri": "https://localhost:8080/",
          "height": 204
        }
      },
      "source": [
        "!wget https://raw.githubusercontent.com/sebastianberns/torchvision.transforms.invert/master/invert.py"
      ],
      "execution_count": 47,
      "outputs": [
        {
          "output_type": "stream",
          "text": [
            "--2020-06-13 13:50:34--  https://raw.githubusercontent.com/sebastianberns/torchvision.transforms.invert/master/invert.py\n",
            "Resolving raw.githubusercontent.com (raw.githubusercontent.com)... 151.101.0.133, 151.101.64.133, 151.101.128.133, ...\n",
            "Connecting to raw.githubusercontent.com (raw.githubusercontent.com)|151.101.0.133|:443... connected.\n",
            "HTTP request sent, awaiting response... 200 OK\n",
            "Length: 1312 (1.3K) [text/plain]\n",
            "Saving to: ‘invert.py.2’\n",
            "\n",
            "\rinvert.py.2           0%[                    ]       0  --.-KB/s               \rinvert.py.2         100%[===================>]   1.28K  --.-KB/s    in 0s      \n",
            "\n",
            "2020-06-13 13:50:34 (82.3 MB/s) - ‘invert.py.2’ saved [1312/1312]\n",
            "\n"
          ],
          "name": "stdout"
        }
      ]
    },
    {
      "cell_type": "code",
      "metadata": {
        "id": "CJ1jReiW4VNp",
        "colab_type": "code",
        "colab": {}
      },
      "source": [
        "from invert import Invert"
      ],
      "execution_count": 0,
      "outputs": []
    },
    {
      "cell_type": "markdown",
      "metadata": {
        "id": "y4DfouEEWh2_",
        "colab_type": "text"
      },
      "source": [
        "# Used this repositery to print the summary of the model"
      ]
    },
    {
      "cell_type": "code",
      "metadata": {
        "id": "D0SjbRQCT06i",
        "colab_type": "code",
        "colab": {
          "base_uri": "https://localhost:8080/",
          "height": 34
        },
        "outputId": "1ccd913a-c3b6-48b1-ec83-774402954c2e"
      },
      "source": [
        "!pip install torchsummary\n",
        "from torchsummary import summary"
      ],
      "execution_count": 49,
      "outputs": [
        {
          "output_type": "stream",
          "text": [
            "Requirement already satisfied: torchsummary in /usr/local/lib/python3.6/dist-packages (1.5.1)\n"
          ],
          "name": "stdout"
        }
      ]
    },
    {
      "cell_type": "code",
      "metadata": {
        "id": "iCtbWqOS8BqV",
        "colab_type": "code",
        "outputId": "e42eeebb-9fac-4f61-8f97-97223ae56453",
        "colab": {
          "base_uri": "https://localhost:8080/",
          "height": 34
        }
      },
      "source": [
        "from google.colab import drive\n",
        "drive.mount('/content/drive')"
      ],
      "execution_count": 50,
      "outputs": [
        {
          "output_type": "stream",
          "text": [
            "Drive already mounted at /content/drive; to attempt to forcibly remount, call drive.mount(\"/content/drive\", force_remount=True).\n"
          ],
          "name": "stdout"
        }
      ]
    },
    {
      "cell_type": "code",
      "metadata": {
        "id": "_d_SU6_mqE_X",
        "colab_type": "code",
        "colab": {}
      },
      "source": [
        "data_path = '/content/drive/My Drive/BengaliDRW'"
      ],
      "execution_count": 0,
      "outputs": []
    },
    {
      "cell_type": "markdown",
      "metadata": {
        "id": "6qZulpwEqjsc",
        "colab_type": "text"
      },
      "source": [
        "## Data preprocessing"
      ]
    },
    {
      "cell_type": "code",
      "metadata": {
        "id": "nUHDD_IQKrZt",
        "colab_type": "code",
        "colab": {}
      },
      "source": [
        "def makeDirectory (dir_path):\n",
        "    if os.path.exists (dir_path):\n",
        "        shutil.rmtree (dir_path)\n",
        "    os.mkdir (dir_path)"
      ],
      "execution_count": 0,
      "outputs": []
    },
    {
      "cell_type": "markdown",
      "metadata": {
        "id": "Ey8TZfmybkfS",
        "colab_type": "text"
      },
      "source": [
        "#This code section was written to organize the data for my convenience.\n",
        "This moves the classified images to separate forders according to their labels.\n",
        "name of folders are name of labels."
      ]
    },
    {
      "cell_type": "code",
      "metadata": {
        "id": "bUzX3qiTq60b",
        "colab_type": "code",
        "colab": {}
      },
      "source": [
        "# labels_file = os.path.join (data_path, 'labels.xls')\n",
        "# full_data_path = os.path.join (data_path, 'full')\n",
        "# if not os.path.exists (full_data_path):\n",
        "#   os.mkdir (full_data_path)\n",
        "# labels = pd.read_excel(labels_file,header=None)\n",
        "# for i in range (len (labels)):\n",
        "#   image_name = 'raw/' + labels.iloc[i, 0]+'.jpg'\n",
        "#   image_label = labels.iloc[i, 1]\n",
        "#   image_path = os.path.join (data_path, image_name)\n",
        "#   target_dir_path = os.path.join (full_data_path, str (image_label))\n",
        "#   # print (image_path, target_dir_path)\n",
        "#   makeDirectory (target_dir_path)\n",
        "#   shutil.copyfile (image_path, os.path.join (target_dir_path, image_name[4:]))\n",
        "#   # os.system ('cp ' + image_path + ' ' + target_dir_path)"
      ],
      "execution_count": 0,
      "outputs": []
    },
    {
      "cell_type": "code",
      "metadata": {
        "id": "JpEgvWnyqnXI",
        "colab_type": "code",
        "colab": {}
      },
      "source": [
        "# for filename in os.listdir (data_path):\n",
        "#   src_path = os.path.join (data_path, filename)\n",
        "#   if (src_path.endswith ('.jpg')):\n",
        "#     tgt_path = os.path.join (data_path, 'raw')\n",
        "#     os.system ('mv ' + src_path + ' ' + tgt_path)"
      ],
      "execution_count": 0,
      "outputs": []
    },
    {
      "cell_type": "markdown",
      "metadata": {
        "id": "U62XhtEa4pNV",
        "colab_type": "text"
      },
      "source": [
        "## Train - Val - Test Split"
      ]
    },
    {
      "cell_type": "markdown",
      "metadata": {
        "id": "yqpFY06gcext",
        "colab_type": "text"
      },
      "source": [
        "10% data for validation\n",
        "\n",
        "10% data for test\n",
        "\n",
        "80% data for training "
      ]
    },
    {
      "cell_type": "code",
      "metadata": {
        "id": "MYLDHMbv8vTM",
        "colab_type": "code",
        "colab": {}
      },
      "source": [
        "RATIO_VAL = 0.1\n",
        "RATIO_TEST = 0.1"
      ],
      "execution_count": 0,
      "outputs": []
    },
    {
      "cell_type": "markdown",
      "metadata": {
        "id": "_20V5YmHcsqD",
        "colab_type": "text"
      },
      "source": [
        "Declaration of paths"
      ]
    },
    {
      "cell_type": "code",
      "metadata": {
        "id": "5mBH_T6U4aLu",
        "colab_type": "code",
        "colab": {}
      },
      "source": [
        "full_data_path = os.path.join (data_path, 'full')\n",
        "train_data_path = os.path.join (data_path, 'train')\n",
        "val_data_path = os.path.join (data_path, 'val')\n",
        "test_data_path = os.path.join (data_path, 'test')"
      ],
      "execution_count": 0,
      "outputs": []
    },
    {
      "cell_type": "markdown",
      "metadata": {
        "id": "o7U7dVvEcwi_",
        "colab_type": "text"
      },
      "source": [
        "Making Respective directories"
      ]
    },
    {
      "cell_type": "code",
      "metadata": {
        "id": "vp7dc_WV8wEk",
        "colab_type": "code",
        "colab": {}
      },
      "source": [
        "for dirname in (train_data_path, val_data_path, test_data_path):\n",
        "    makeDirectory (dirname)"
      ],
      "execution_count": 0,
      "outputs": []
    },
    {
      "cell_type": "markdown",
      "metadata": {
        "id": "X9uVVGhWeJUd",
        "colab_type": "text"
      },
      "source": [
        "## Splitting"
      ]
    },
    {
      "cell_type": "code",
      "metadata": {
        "id": "yaFWURhT9Aew",
        "colab_type": "code",
        "outputId": "8d6ad2e4-664e-4acc-86d3-24a0796dd5e0",
        "colab": {
          "base_uri": "https://localhost:8080/",
          "height": 204
        }
      },
      "source": [
        "sumlen = 0\n",
        "for label_dir in os.listdir (full_data_path):\n",
        "    tgt_train = os.path.join (train_data_path, label_dir)\n",
        "    tgt_val = os.path.join (val_data_path, label_dir)\n",
        "    tgt_test = os.path.join (test_data_path, label_dir)\n",
        "    for dirname in (tgt_train, tgt_val, tgt_test):\n",
        "        makeDirectory (dirname)\n",
        "    label_path = os.path.join (full_data_path, label_dir)\n",
        "    list_images = os.listdir (label_path)\n",
        "    random.shuffle (list_images)\n",
        "    total = len (list_images)\n",
        "    print (total)\n",
        "    sumlen += total\n",
        "    num_val = int(total * RATIO_VAL)\n",
        "    num_test = int(total * RATIO_TEST)\n",
        "    num_train = total - (num_val + num_test)\n",
        "    train_images = list_images[ : num_train]\n",
        "    val_images = list_images[ num_train : num_train + num_val]\n",
        "    test_images = list_images[ num_train + num_val : ]\n",
        "    for img in train_images:\n",
        "        src_img = os.path.join (label_path, img)\n",
        "        tgt_img = os.path.join (tgt_train, img)\n",
        "        shutil.copyfile (src_img, tgt_img)\n",
        "    for img in val_images:\n",
        "        src_img = os.path.join (label_path, img)\n",
        "        tgt_img = os.path.join (tgt_val, img)\n",
        "        shutil.copyfile (src_img, tgt_img)\n",
        "    for img in test_images:\n",
        "        src_img = os.path.join (label_path, img)\n",
        "        tgt_img = os.path.join (tgt_test, img)\n",
        "        shutil.copyfile (src_img, tgt_img)\n",
        "print (sumlen)"
      ],
      "execution_count": 12,
      "outputs": [
        {
          "output_type": "stream",
          "text": [
            "126\n",
            "282\n",
            "124\n",
            "211\n",
            "133\n",
            "98\n",
            "89\n",
            "83\n",
            "81\n",
            "166\n",
            "1393\n"
          ],
          "name": "stdout"
        }
      ]
    },
    {
      "cell_type": "markdown",
      "metadata": {
        "id": "sRHNupk-W6h4",
        "colab_type": "text"
      },
      "source": [
        "# Data augmentation\n",
        "\n",
        "## Color Inversion Augmentation"
      ]
    },
    {
      "cell_type": "code",
      "metadata": {
        "id": "FiNInR79HTzU",
        "colab_type": "code",
        "colab": {}
      },
      "source": [
        "\n",
        "for label_dir in os.listdir (train_data_path):\n",
        "    label_path = os.path.join (train_data_path, label_dir)\n",
        "    for img_name in os.listdir (label_path):\n",
        "        img_path = os.path.join (label_path, img_name)\n",
        "        img = Image.open (img_path)\n",
        "        inv = Invert()\n",
        "        invertedImage = inv (img)\n",
        "        inverted_path = os.path.join (label_path, 'inverted_' + img_name)\n",
        "        invertedImage.save (inverted_path, 'JPEG')\n"
      ],
      "execution_count": 0,
      "outputs": []
    },
    {
      "cell_type": "markdown",
      "metadata": {
        "id": "dQo1jG7aW9Ax",
        "colab_type": "text"
      },
      "source": [
        "# To handle the imbalance of Data classification I have augmented the data using rotation and translation transformation and created almost similar amount of data for all classes"
      ]
    },
    {
      "cell_type": "code",
      "metadata": {
        "id": "nj45zdZzIxTk",
        "colab_type": "code",
        "colab": {}
      },
      "source": [
        "translate_string = '3456789'\n",
        "rotation_string = '789'\n",
        "\n",
        "def rotation (img):\n",
        "    return transforms.functional.affine(img, 15, (0, 0), 1, 0, resample=0, fillcolor=None)\n",
        "\n",
        "def translation (img):\n",
        "    return transforms.functional.affine(img, 0, (0.05, 0.05), 1, 0, 0, None)\n",
        "\n",
        "for label_dir in os.listdir (train_data_path):\n",
        "    label_path = os.path.join (train_data_path, label_dir)\n",
        "    for img_name in os.listdir (label_path):\n",
        "        img_path = os.path.join (label_path, img_name)\n",
        "        img = Image.open (img_path)\n",
        "        \n",
        "        if label_dir in translate_string:\n",
        "            # translate\n",
        "            translated_image = translation (img)\n",
        "            translated_path = os.path.join (label_path, 'translated_' + img_name)\n",
        "            translated_image.save (translated_path, 'JPEG')\n",
        "\n",
        "        if label_dir in rotation_string:\n",
        "            #rotation\n",
        "            rotated_image = rotation (img)\n",
        "            rotated_path = os.path.join (label_path, 'rotated_' + img_name)\n",
        "            rotated_image.save (rotated_path, 'JPEG')"
      ],
      "execution_count": 0,
      "outputs": []
    },
    {
      "cell_type": "markdown",
      "metadata": {
        "id": "59-hK7cqXKjU",
        "colab_type": "text"
      },
      "source": [
        "\n",
        "## Preparation of datasets and dataloader for both training and validation"
      ]
    },
    {
      "cell_type": "code",
      "metadata": {
        "id": "vhRHqf7LDG0i",
        "colab_type": "code",
        "colab": {}
      },
      "source": [
        "\n",
        "data_transforms = {\n",
        "    'train': transforms.Compose([\n",
        "        transforms.Grayscale (1),\n",
        "        transforms.Resize ((32, 32)),\n",
        "        transforms.ToTensor(),\n",
        "    ]),\n",
        "    'val': transforms.Compose([\n",
        "        transforms.Grayscale (1),\n",
        "        transforms.Resize((32, 32)),\n",
        "        transforms.ToTensor(),\n",
        "    ]),\n",
        "}\n",
        "\n",
        "data_dir = data_path\n",
        "image_datasets = {x: datasets.ImageFolder(os.path.join(data_dir, x),\n",
        "                                          data_transforms[x])\n",
        "                  for x in ['train', 'val']}\n",
        "dataloaders = {x: torch.utils.data.DataLoader(image_datasets[x], batch_size=4,\n",
        "                                             shuffle=True, num_workers=4)\n",
        "              for x in ['train', 'val']}\n",
        "dataset_sizes = {x: len(image_datasets[x]) for x in ['train', 'val']}\n",
        "class_names = image_datasets['train'].classes\n",
        "\n"
      ],
      "execution_count": 0,
      "outputs": []
    },
    {
      "cell_type": "code",
      "metadata": {
        "id": "H5r1RiJ261mk",
        "colab_type": "code",
        "colab": {}
      },
      "source": [
        "device = torch.device(\"cuda:0\" if torch.cuda.is_available() else \"cpu\")"
      ],
      "execution_count": 0,
      "outputs": []
    },
    {
      "cell_type": "markdown",
      "metadata": {
        "id": "wqhHItKZ7m89",
        "colab_type": "text"
      },
      "source": [
        "### Visualizing a single batch"
      ]
    },
    {
      "cell_type": "code",
      "metadata": {
        "scrolled": false,
        "id": "3gxiRQJ27m8-",
        "colab_type": "code",
        "outputId": "eb42bd50-d80b-445b-a261-071c679ce758",
        "colab": {
          "base_uri": "https://localhost:8080/",
          "height": 151
        }
      },
      "source": [
        "def imshow(inp, title=None):\n",
        "    \"\"\"Imshow for Tensor.\"\"\"\n",
        "    inp = inp.numpy().transpose((1, 2, 0))\n",
        "    inp = inp[:, :, 0]\n",
        "    # mean = np.array([0.485, 0.456, 0.406])\n",
        "    # std = np.array([0.229, 0.224, 0.225])\n",
        "    # inp = std * inp + mean\n",
        "    # inp = np.clip(inp, 0, 1)\n",
        "    plt.imshow(inp)\n",
        "    if title is not None:\n",
        "        plt.title(title)\n",
        "    plt.pause(0.001)  # pause a bit so that plots are updated\n",
        "\n",
        "# Get a batch of training data\n",
        "inputs, classes = next(iter(dataloaders['train']))\n",
        "\n",
        "# Make a grid from batch\n",
        "out = torchvision.utils.make_grid(inputs)\n",
        "\n",
        "imshow(out, title=[class_names[x] for x in classes])"
      ],
      "execution_count": 16,
      "outputs": [
        {
          "output_type": "display_data",
          "data": {
            "image/png": "[encoded data removed]",
            "text/plain": [
              "<Figure size 432x288 with 1 Axes>"
            ]
          },
          "metadata": {
            "tags": [],
            "needs_background": "light"
          }
        }
      ]
    },
    {
      "cell_type": "markdown",
      "metadata": {
        "id": "8NtUowBq7m9E",
        "colab_type": "text"
      },
      "source": [
        "### Define model architecture"
      ]
    },
    {
      "cell_type": "code",
      "metadata": {
        "id": "Fwaa0zSd7m9F",
        "colab_type": "code",
        "colab": {}
      },
      "source": [
        "class LeNet(nn.Module):\n",
        "    def __init__(self):\n",
        "        super(LeNet, self).__init__()\n",
        "        self.conv1 = nn.Conv2d(1, 6, kernel_size=5)\n",
        "        self.pool1 = nn.MaxPool2d(kernel_size=2,stride=2)\n",
        "        self.conv2 = nn.Conv2d(6, 16, kernel_size=5)\n",
        "        self.pool2 = nn.MaxPool2d(kernel_size=2,stride=2)        \n",
        "        self.fc1 = nn.Linear(400, 120)\n",
        "        self.fc2 = nn.Linear(120, 84)\n",
        "        self.fc3 = nn.Linear(84, 10)\n",
        "\n",
        "    def forward(self, x):\n",
        "        x = F.relu(self.conv1(x))\n",
        "        x = self.pool1(x)\n",
        "        x = F.relu(self.conv2(x))\n",
        "        x = self.pool2(x)\n",
        "        x = x.view(-1, 400)\n",
        "        x = F.relu(self.fc1(x)) \n",
        "        x = F.relu(self.fc2(x))\n",
        "        x = self.fc3(x)\n",
        "        return F.log_softmax(x,dim=1)"
      ],
      "execution_count": 0,
      "outputs": []
    },
    {
      "cell_type": "markdown",
      "metadata": {
        "id": "zzq7AtlI7m9U",
        "colab_type": "text"
      },
      "source": [
        "### Train model"
      ]
    },
    {
      "cell_type": "code",
      "metadata": {
        "id": "TYCaEY2Io8Fk",
        "colab_type": "code",
        "colab": {}
      },
      "source": [
        "def train_model(model, criterion, optimizer, scheduler, num_epochs=25):\n",
        "    since = time.time()\n",
        "\n",
        "    best_model_wts = copy.deepcopy(model.state_dict())\n",
        "    best_acc = 0.0\n",
        "\n",
        "    losses = dict()\n",
        "    accuracies = dict()\n",
        "\n",
        "    for epoch in range(num_epochs):\n",
        "        print('Epoch {}/{}'.format(epoch, num_epochs - 1))\n",
        "        print('-' * 10)\n",
        "\n",
        "        # Each epoch has a training and validation phase\n",
        "        for phase in ['train', 'val']:\n",
        "            if phase == 'train':\n",
        "                model.train()  # Set model to training mode\n",
        "            else:\n",
        "                model.eval()   # Set model to evaluate mode\n",
        "\n",
        "            running_loss = 0.0\n",
        "            running_corrects = 0\n",
        "\n",
        "            # Iterate over data.\n",
        "            for inputs, labels in dataloaders[phase]:\n",
        "                inputs = inputs.to(device)\n",
        "                labels = labels.to(device)\n",
        "\n",
        "                # zero the parameter gradients\n",
        "                optimizer.zero_grad()\n",
        "\n",
        "                # forward\n",
        "                # track history if only in train\n",
        "                with torch.set_grad_enabled(phase == 'train'):\n",
        "                    outputs = model(inputs)\n",
        "                    _, preds = torch.max(outputs, 1)\n",
        "                    loss = criterion(outputs, labels)\n",
        "\n",
        "                    # backward + optimize only if in training phase\n",
        "                    if phase == 'train':\n",
        "                        loss.backward()\n",
        "                        optimizer.step()\n",
        "\n",
        "                # statistics\n",
        "                running_loss += loss.item() * inputs.size(0)\n",
        "                running_corrects += torch.sum(preds == labels.data)\n",
        "            if phase == 'train':\n",
        "                scheduler.step()\n",
        "\n",
        "            epoch_loss = running_loss / dataset_sizes[phase]\n",
        "            epoch_acc = running_corrects.double() / dataset_sizes[phase]\n",
        "\n",
        "            if phase not in losses:\n",
        "                losses[phase] = list()\n",
        "                accuracies[phase] = list()\n",
        "\n",
        "            losses[phase].append (epoch_loss)\n",
        "            accuracies[phase].append (epoch_acc)\n",
        "\n",
        "            print('{} Loss: {:.4f} Acc: {:.4f}'.format(\n",
        "                phase, epoch_loss, epoch_acc))\n",
        "\n",
        "            # deep copy the model\n",
        "            if phase == 'val' and epoch_acc > best_acc:\n",
        "                best_acc = epoch_acc\n",
        "                best_model_wts = copy.deepcopy(model.state_dict())\n",
        "\n",
        "        print()\n",
        "\n",
        "    time_elapsed = time.time() - since\n",
        "    print('Training complete in {:.0f}m {:.0f}s'.format(\n",
        "        time_elapsed // 60, time_elapsed % 60))\n",
        "    print('Best val Acc: {:4f}'.format(best_acc))\n",
        "\n",
        "    # load best model weights\n",
        "    model.load_state_dict(best_model_wts)\n",
        "    return model, losses, accuracies"
      ],
      "execution_count": 0,
      "outputs": []
    },
    {
      "cell_type": "markdown",
      "metadata": {
        "id": "LoF24mgpXxKQ",
        "colab_type": "text"
      },
      "source": [
        "#Making Model object"
      ]
    },
    {
      "cell_type": "code",
      "metadata": {
        "id": "dZedWINx9uBo",
        "colab_type": "code",
        "colab": {}
      },
      "source": [
        "net = LeNet()"
      ],
      "execution_count": 0,
      "outputs": []
    },
    {
      "cell_type": "markdown",
      "metadata": {
        "id": "653WWKTQX3gU",
        "colab_type": "text"
      },
      "source": [
        "#Printing the structure of the Model\n",
        "\n",
        "Reference: https://github.com/sksq96/pytorch-summary"
      ]
    },
    {
      "cell_type": "code",
      "metadata": {
        "id": "BJBTdEuIVSXE",
        "colab_type": "code",
        "colab": {
          "base_uri": "https://localhost:8080/",
          "height": 357
        },
        "outputId": "a0c87402-ef33-4326-d2a0-75a1e695eb7b"
      },
      "source": [
        "my_model_structure = net.to(device)\n",
        "summary(my_model_structure,(1,32,32))"
      ],
      "execution_count": 59,
      "outputs": [
        {
          "output_type": "stream",
          "text": [
            "----------------------------------------------------------------\n",
            "        Layer (type)               Output Shape         Param #\n",
            "================================================================\n",
            "            Conv2d-1            [-1, 6, 28, 28]             156\n",
            "         MaxPool2d-2            [-1, 6, 14, 14]               0\n",
            "            Conv2d-3           [-1, 16, 10, 10]           2,416\n",
            "         MaxPool2d-4             [-1, 16, 5, 5]               0\n",
            "            Linear-5                  [-1, 120]          48,120\n",
            "            Linear-6                   [-1, 84]          10,164\n",
            "            Linear-7                   [-1, 10]             850\n",
            "================================================================\n",
            "Total params: 61,706\n",
            "Trainable params: 61,706\n",
            "Non-trainable params: 0\n",
            "----------------------------------------------------------------\n",
            "Input size (MB): 0.00\n",
            "Forward/backward pass size (MB): 0.06\n",
            "Params size (MB): 0.24\n",
            "Estimated Total Size (MB): 0.30\n",
            "----------------------------------------------------------------\n"
          ],
          "name": "stdout"
        }
      ]
    },
    {
      "cell_type": "markdown",
      "metadata": {
        "id": "WpHp6PFIYBw1",
        "colab_type": "text"
      },
      "source": [
        "# Training the model using SGD optimizer"
      ]
    },
    {
      "cell_type": "code",
      "metadata": {
        "id": "JHMOmPrS7m9W",
        "colab_type": "code",
        "outputId": "ee375f7a-59bf-4d14-c3b7-bd6340bb9009",
        "colab": {
          "base_uri": "https://localhost:8080/",
          "height": 1000
        }
      },
      "source": [
        "print(net)\n",
        "\n",
        "criterion = nn.CrossEntropyLoss()\n",
        "\n",
        "learning_rate = 0.002\n",
        "num_epochs = 50\n",
        "optimizer=optim.SGD(net.parameters(),lr=learning_rate)\n",
        "\n",
        "trained_model, losses, accuracies = train_model(net, criterion, optimizer, optimizer, num_epochs)\n"
      ],
      "execution_count": 64,
      "outputs": [
        {
          "output_type": "stream",
          "text": [
            "LeNet(\n",
            "  (conv1): Conv2d(1, 6, kernel_size=(5, 5), stride=(1, 1))\n",
            "  (pool1): MaxPool2d(kernel_size=2, stride=2, padding=0, dilation=1, ceil_mode=False)\n",
            "  (conv2): Conv2d(6, 16, kernel_size=(5, 5), stride=(1, 1))\n",
            "  (pool2): MaxPool2d(kernel_size=2, stride=2, padding=0, dilation=1, ceil_mode=False)\n",
            "  (fc1): Linear(in_features=400, out_features=120, bias=True)\n",
            "  (fc2): Linear(in_features=120, out_features=84, bias=True)\n",
            "  (fc3): Linear(in_features=84, out_features=10, bias=True)\n",
            ")\n",
            "Epoch 0/49\n",
            "----------\n",
            "train Loss: 2.3023 Acc: 0.1061\n",
            "val Loss: 2.3007 Acc: 0.0889\n",
            "\n",
            "Epoch 1/49\n",
            "----------\n",
            "train Loss: 2.2955 Acc: 0.1121\n",
            "val Loss: 2.3061 Acc: 0.1185\n",
            "\n",
            "Epoch 2/49\n",
            "----------\n",
            "train Loss: 2.2915 Acc: 0.1368\n",
            "val Loss: 2.3107 Acc: 0.0593\n",
            "\n",
            "Epoch 3/49\n",
            "----------\n",
            "train Loss: 2.2890 Acc: 0.1465\n",
            "val Loss: 2.3148 Acc: 0.1630\n",
            "\n",
            "Epoch 4/49\n",
            "----------\n",
            "train Loss: 2.2870 Acc: 0.1584\n",
            "val Loss: 2.3140 Acc: 0.2222\n",
            "\n",
            "Epoch 5/49\n",
            "----------\n",
            "train Loss: 2.2843 Acc: 0.1683\n",
            "val Loss: 2.3092 Acc: 0.2222\n",
            "\n",
            "Epoch 6/49\n",
            "----------\n",
            "train Loss: 2.2806 Acc: 0.1616\n",
            "val Loss: 2.3062 Acc: 0.2148\n",
            "\n",
            "Epoch 7/49\n",
            "----------\n",
            "train Loss: 2.2736 Acc: 0.1725\n",
            "val Loss: 2.3034 Acc: 0.1259\n",
            "\n",
            "Epoch 8/49\n",
            "----------\n",
            "train Loss: 2.2614 Acc: 0.1909\n",
            "val Loss: 2.2833 Acc: 0.2000\n",
            "\n",
            "Epoch 9/49\n",
            "----------\n",
            "train Loss: 2.2308 Acc: 0.2138\n",
            "val Loss: 2.2051 Acc: 0.2815\n",
            "\n",
            "Epoch 10/49\n",
            "----------\n",
            "train Loss: 2.1315 Acc: 0.2539\n",
            "val Loss: 2.0249 Acc: 0.2963\n",
            "\n",
            "Epoch 11/49\n",
            "----------\n",
            "train Loss: 1.8410 Acc: 0.3746\n",
            "val Loss: 1.7848 Acc: 0.2963\n",
            "\n",
            "Epoch 12/49\n",
            "----------\n",
            "train Loss: 1.3273 Acc: 0.5911\n",
            "val Loss: 1.2692 Acc: 0.5481\n",
            "\n",
            "Epoch 13/49\n",
            "----------\n",
            "train Loss: 0.8228 Acc: 0.7560\n",
            "val Loss: 1.0298 Acc: 0.6741\n",
            "\n",
            "Epoch 14/49\n",
            "----------\n",
            "train Loss: 0.5727 Acc: 0.8332\n",
            "val Loss: 0.5082 Acc: 0.8519\n",
            "\n",
            "Epoch 15/49\n",
            "----------\n",
            "train Loss: 0.4426 Acc: 0.8704\n",
            "val Loss: 0.4329 Acc: 0.9037\n",
            "\n",
            "Epoch 16/49\n",
            "----------\n",
            "train Loss: 0.3672 Acc: 0.8892\n",
            "val Loss: 0.3581 Acc: 0.9185\n",
            "\n",
            "Epoch 17/49\n",
            "----------\n",
            "train Loss: 0.3081 Acc: 0.9136\n",
            "val Loss: 0.3315 Acc: 0.9259\n",
            "\n",
            "Epoch 18/49\n",
            "----------\n",
            "train Loss: 0.2581 Acc: 0.9277\n",
            "val Loss: 0.2958 Acc: 0.9333\n",
            "\n",
            "Epoch 19/49\n",
            "----------\n",
            "train Loss: 0.2288 Acc: 0.9373\n",
            "val Loss: 0.3040 Acc: 0.9259\n",
            "\n",
            "Epoch 20/49\n",
            "----------\n",
            "train Loss: 0.1946 Acc: 0.9456\n",
            "val Loss: 0.5039 Acc: 0.8667\n",
            "\n",
            "Epoch 21/49\n",
            "----------\n",
            "train Loss: 0.1730 Acc: 0.9545\n",
            "val Loss: 0.3623 Acc: 0.9111\n",
            "\n",
            "Epoch 22/49\n",
            "----------\n",
            "train Loss: 0.1570 Acc: 0.9573\n",
            "val Loss: 0.3263 Acc: 0.9185\n",
            "\n",
            "Epoch 23/49\n",
            "----------\n",
            "train Loss: 0.1425 Acc: 0.9566\n",
            "val Loss: 0.3573 Acc: 0.9037\n",
            "\n",
            "Epoch 24/49\n",
            "----------\n",
            "train Loss: 0.1295 Acc: 0.9649\n",
            "val Loss: 0.3503 Acc: 0.9259\n",
            "\n",
            "Epoch 25/49\n",
            "----------\n",
            "train Loss: 0.1112 Acc: 0.9693\n",
            "val Loss: 0.2841 Acc: 0.9333\n",
            "\n",
            "Epoch 26/49\n",
            "----------\n",
            "train Loss: 0.1003 Acc: 0.9740\n",
            "val Loss: 0.5070 Acc: 0.8593\n",
            "\n",
            "Epoch 27/49\n",
            "----------\n",
            "train Loss: 0.0872 Acc: 0.9774\n",
            "val Loss: 0.2970 Acc: 0.9333\n",
            "\n",
            "Epoch 28/49\n",
            "----------\n",
            "train Loss: 0.0847 Acc: 0.9779\n",
            "val Loss: 0.3115 Acc: 0.9333\n",
            "\n",
            "Epoch 29/49\n",
            "----------\n",
            "train Loss: 0.0759 Acc: 0.9797\n",
            "val Loss: 0.3248 Acc: 0.9259\n",
            "\n",
            "Epoch 30/49\n",
            "----------\n",
            "train Loss: 0.0680 Acc: 0.9815\n",
            "val Loss: 0.2803 Acc: 0.9407\n",
            "\n",
            "Epoch 31/49\n",
            "----------\n",
            "train Loss: 0.0571 Acc: 0.9865\n",
            "val Loss: 0.3010 Acc: 0.9333\n",
            "\n",
            "Epoch 32/49\n",
            "----------\n",
            "train Loss: 0.0569 Acc: 0.9883\n",
            "val Loss: 0.2759 Acc: 0.9333\n",
            "\n",
            "Epoch 33/49\n",
            "----------\n",
            "train Loss: 0.0439 Acc: 0.9899\n",
            "val Loss: 0.3451 Acc: 0.9185\n",
            "\n",
            "Epoch 34/49\n",
            "----------\n",
            "train Loss: 0.0433 Acc: 0.9896\n",
            "val Loss: 0.3148 Acc: 0.9407\n",
            "\n",
            "Epoch 35/49\n",
            "----------\n",
            "train Loss: 0.0413 Acc: 0.9886\n",
            "val Loss: 0.3644 Acc: 0.9333\n",
            "\n",
            "Epoch 36/49\n",
            "----------\n",
            "train Loss: 0.0340 Acc: 0.9935\n",
            "val Loss: 0.3528 Acc: 0.9259\n",
            "\n",
            "Epoch 37/49\n",
            "----------\n",
            "train Loss: 0.0345 Acc: 0.9922\n",
            "val Loss: 0.3025 Acc: 0.9481\n",
            "\n",
            "Epoch 38/49\n",
            "----------\n",
            "train Loss: 0.0296 Acc: 0.9932\n",
            "val Loss: 0.3205 Acc: 0.9333\n",
            "\n",
            "Epoch 39/49\n",
            "----------\n",
            "train Loss: 0.0238 Acc: 0.9958\n",
            "val Loss: 0.3379 Acc: 0.9333\n",
            "\n",
            "Epoch 40/49\n",
            "----------\n",
            "train Loss: 0.0224 Acc: 0.9964\n",
            "val Loss: 0.3115 Acc: 0.9333\n",
            "\n",
            "Epoch 41/49\n",
            "----------\n",
            "train Loss: 0.0261 Acc: 0.9932\n",
            "val Loss: 0.3455 Acc: 0.9259\n",
            "\n",
            "Epoch 42/49\n",
            "----------\n",
            "train Loss: 0.0165 Acc: 0.9979\n",
            "val Loss: 0.3229 Acc: 0.9481\n",
            "\n",
            "Epoch 43/49\n",
            "----------\n",
            "train Loss: 0.0168 Acc: 0.9974\n",
            "val Loss: 0.3295 Acc: 0.9259\n",
            "\n",
            "Epoch 44/49\n",
            "----------\n",
            "train Loss: 0.0135 Acc: 0.9987\n",
            "val Loss: 0.3253 Acc: 0.9407\n",
            "\n",
            "Epoch 45/49\n",
            "----------\n",
            "train Loss: 0.0143 Acc: 0.9982\n",
            "val Loss: 0.3528 Acc: 0.9333\n",
            "\n",
            "Epoch 46/49\n",
            "----------\n",
            "train Loss: 0.0185 Acc: 0.9953\n",
            "val Loss: 0.4821 Acc: 0.9037\n",
            "\n",
            "Epoch 47/49\n",
            "----------\n",
            "train Loss: 0.0145 Acc: 0.9982\n",
            "val Loss: 0.3555 Acc: 0.9333\n",
            "\n",
            "Epoch 48/49\n",
            "----------\n",
            "train Loss: 0.0130 Acc: 0.9966\n",
            "val Loss: 0.3240 Acc: 0.9407\n",
            "\n",
            "Epoch 49/49\n",
            "----------\n",
            "train Loss: 0.0161 Acc: 0.9971\n",
            "val Loss: 0.4591 Acc: 0.9185\n",
            "\n",
            "Training complete in 5m 50s\n",
            "Best val Acc: 0.948148\n"
          ],
          "name": "stdout"
        }
      ]
    },
    {
      "cell_type": "markdown",
      "metadata": {
        "id": "YK1FBtGgYRCV",
        "colab_type": "text"
      },
      "source": [
        "#Ploting the performance"
      ]
    },
    {
      "cell_type": "code",
      "metadata": {
        "id": "5_8Eq78RYWTz",
        "colab_type": "code",
        "colab": {
          "base_uri": "https://localhost:8080/",
          "height": 623
        },
        "outputId": "e8c485ff-11f7-4e53-9bbd-070e9e1cf101"
      },
      "source": [
        "\n",
        "for phase in ('train', 'val'):\n",
        "    fig = plt.figure(figsize=[15,5]) \n",
        "    plt.subplot(121)\n",
        "    plt.plot(range(len(losses[phase])),losses[phase],'r-',label=phase.capitalize() + ' Loss') \n",
        "    plt.legend(loc='upper right')\n",
        "    #vplt.xlabel('Mini Batch')\n",
        "    plt.ylabel(phase + ' loss')\n",
        "    plt.subplot(122)\n",
        "    plt.plot(range(len(accuracies[phase])),accuracies[phase],'g-',label=phase.capitalize() + ' Accuracy') \n",
        "    plt.legend(loc='upper right')\n",
        "    # plt.xlabel('Mini Batch')\n",
        "    plt.ylabel(phase + ' accuracy')\n",
        "             "
      ],
      "execution_count": 65,
      "outputs": [
        {
          "output_type": "display_data",
          "data": {
            "image/png": "[encoded data removed]",
            "text/plain": [
              "<Figure size 1080x360 with 2 Axes>"
            ]
          },
          "metadata": {
            "tags": [],
            "needs_background": "light"
          }
        },
        {
          "output_type": "display_data",
          "data": {
            "image/png": "[encoded data removed]",
            "text/plain": [
              "<Figure size 1080x360 with 2 Axes>"
            ]
          },
          "metadata": {
            "tags": [],
            "needs_background": "light"
          }
        }
      ]
    },
    {
      "cell_type": "markdown",
      "metadata": {
        "id": "egaArT647m9n",
        "colab_type": "text"
      },
      "source": [
        "### Evaluation of trained model"
      ]
    },
    {
      "cell_type": "code",
      "metadata": {
        "id": "-wzBf3682nbc",
        "colab_type": "code",
        "colab": {}
      },
      "source": [
        "#Preparation of test_dataset and testLoader\n",
        "test_data_transforms = transforms.Compose (\n",
        "    [\n",
        "        transforms.Grayscale (1),\n",
        "        transforms.Resize ((32, 32)),\n",
        "        transforms.ToTensor(),\n",
        "    ]\n",
        ")\n",
        "\n",
        "data_dir = data_path\n",
        "test_dataset = datasets.ImageFolder (os.path.join (data_dir, 'test'), test_data_transforms)\n",
        "testLoader = torch.utils.data.DataLoader(test_dataset, batch_size=4, num_workers=4)\n",
        "test_dataset_size = len(test_dataset)"
      ],
      "execution_count": 0,
      "outputs": []
    },
    {
      "cell_type": "code",
      "metadata": {
        "id": "KHbJ-uxM7m9o",
        "colab_type": "code",
        "outputId": "dd104eae-f59c-4331-8848-dcce888352ac",
        "colab": {
          "base_uri": "https://localhost:8080/",
          "height": 34
        }
      },
      "source": [
        "correct_pred = 0\n",
        "for data in testLoader:\n",
        "    inputs, labels = data\n",
        "    # Feedforward train data batch through model\n",
        "    output = trained_model(inputs)\n",
        "    # Predicted class is the one with maximum probability\n",
        "    preds = torch.argmax(output,dim=1)\n",
        "    correct_pred += torch.sum(preds==labels)\n",
        "\n",
        "test_accuracy = correct_pred.item() / test_dataset_size\n",
        "print('Testing accuracy = ',test_accuracy*100)"
      ],
      "execution_count": 67,
      "outputs": [
        {
          "output_type": "stream",
          "text": [
            "Testing accuracy =  94.81481481481482\n"
          ],
          "name": "stdout"
        }
      ]
    },
    {
      "cell_type": "markdown",
      "metadata": {
        "id": "Dkn_NGht7m9t",
        "colab_type": "text"
      },
      "source": [
        ""
      ]
    }
  ]
}